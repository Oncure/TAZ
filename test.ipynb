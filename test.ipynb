{
 "cells": [
  {
   "cell_type": "code",
   "execution_count": 25,
   "metadata": {},
   "outputs": [],
   "source": [
    "import numpy as np\n",
    "import pandas as pd"
   ]
  },
  {
   "cell_type": "code",
   "execution_count": 26,
   "metadata": {},
   "outputs": [
    {
     "name": "stdout",
     "output_type": "stream",
     "text": [
      "['A', 'B', 'C', 'D', 'E', 'G', 'H', 'J', 'K', 'False']\n"
     ]
    }
   ],
   "source": [
    "def sgs(N:int):\n",
    "    if N > 24:\n",
    "        raise ValueError(f'You are implying you have {N} spingroups. I do not have enough letters in the alphabet to differentiate each spingroup!')\n",
    "    letters = 'ABCDEGHJKLMNPQRSTUVWXYZ'\n",
    "    sg_names = [*letters[:N-1], 'False']\n",
    "    return sg_names\n",
    "\n",
    "sg_names = sgs(10)\n",
    "print(sg_names)"
   ]
  },
  {
   "cell_type": "code",
   "execution_count": 27,
   "metadata": {},
   "outputs": [
    {
     "name": "stdout",
     "output_type": "stream",
     "text": [
      "Confusion Matrix:\n",
      "       A  B  False\n",
      "A      1  1      0\n",
      "B      0  1      0\n",
      "False  0  0      2\n"
     ]
    }
   ],
   "source": [
    "def confusionMatrix(predicted_ids, correct_ids, sg_names=None):\n",
    "    \"\"\"\n",
    "    Calculate and print the confusion matrix with proper labels.\n",
    "\n",
    "    ...\n",
    "    \"\"\"\n",
    "    # Ensure the input arrays have the same length\n",
    "    if len(predicted_id) != len(correct_id):\n",
    "        raise ValueError(\"Input arrays must have the same length.\")\n",
    "\n",
    "    # Determine the number of groups:\n",
    "    if sg_names is None:\n",
    "        num_groups = max(np.max(predicted_ids), np.max(correct_ids)) + 1\n",
    "    else:\n",
    "        num_groups = len(sg_names)\n",
    "\n",
    "    # Initialize the confusion matrix\n",
    "    confusion_matrix = np.zeros((num_groups, num_groups), dtype=int)\n",
    "\n",
    "    # Fill in the confusion matrix\n",
    "    for pred_id, corr_id in zip(predicted_ids, correct_ids):\n",
    "        confusion_matrix[pred_id, corr_id] += 1\n",
    "\n",
    "    # Print the confusion matrix with labels\n",
    "    print(\"Confusion Matrix:\")\n",
    "    confusion_matrix_table = pd.DataFrame(confusion_matrix, index=sg_names, columns=sg_names)\n",
    "    # confusion_matrix_table.index.name = \"Predicted\"\n",
    "    # confusion_matrix_table.columns.name = \"Correct\"\n",
    "    print(confusion_matrix_table)\n",
    "\n",
    "    return confusion_matrix\n",
    "\n",
    "# Example usage:\n",
    "predicted_id = np.array([0, 1, 2, 0, 2])\n",
    "correct_id = np.array([1, 1, 2, 0, 2])\n",
    "sg_names = [\"A\", \"B\", \"False\"]\n",
    "\n",
    "confusion_matrix = confusionMatrix(predicted_id, correct_id, sg_names)\n"
   ]
  },
  {
   "attachments": {},
   "cell_type": "markdown",
   "metadata": {},
   "source": [
    "# Sum Integral Calculating Tool"
   ]
  },
  {
   "cell_type": "code",
   "execution_count": 56,
   "metadata": {},
   "outputs": [
    {
     "name": "stdout",
     "output_type": "stream",
     "text": [
      "1.26672 +/- 0.00012\n",
      "1.2666666666666666\n"
     ]
    }
   ],
   "source": [
    "N = 3\n",
    "T = 100_000_000\n",
    "a = 2\n",
    "b = 2\n",
    "x = np.random.random(size=(T,N))\n",
    "x = np.sort(x)\n",
    "\n",
    "s1 = np.sum(x**a, axis=1)\n",
    "s2 = np.sum(x**b, axis=1)\n",
    "q = s1*s2\n",
    "mean = np.mean(q)\n",
    "std  = np.std(q)/np.sqrt(T)\n",
    "\n",
    "est = N/(a+b+1) + N*(N-1)/((a+1)*(b+1))\n",
    "\n",
    "print(f'{mean:.5f} +/- {std:.5f}')\n",
    "print(est)"
   ]
  }
 ],
 "metadata": {
  "kernelspec": {
   "display_name": "base",
   "language": "python",
   "name": "python3"
  },
  "language_info": {
   "codemirror_mode": {
    "name": "ipython",
    "version": 3
   },
   "file_extension": ".py",
   "mimetype": "text/x-python",
   "name": "python",
   "nbconvert_exporter": "python",
   "pygments_lexer": "ipython3",
   "version": "3.8.5"
  },
  "orig_nbformat": 4,
  "vscode": {
   "interpreter": {
    "hash": "6b1e05b977db2afb962b02c3fca19b9b91f366c5b7e6333f69a37f5ba397db57"
   }
  }
 },
 "nbformat": 4,
 "nbformat_minor": 2
}
