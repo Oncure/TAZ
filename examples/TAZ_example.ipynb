{
 "cells": [
  {
   "attachments": {},
   "cell_type": "markdown",
   "metadata": {},
   "source": [
    "# Import Modules"
   ]
  },
  {
   "cell_type": "code",
   "execution_count": null,
   "metadata": {},
   "outputs": [],
   "source": [
    "import sys\n",
    "sys.path.append('../')\n",
    "\n",
    "import Levels\n",
    "import Results\n",
    "from RMatrix import PTBayes\n",
    "import Resonances\n",
    "from SpinGroups import SpinGroups"
   ]
  },
  {
   "cell_type": "code",
   "execution_count": null,
   "metadata": {},
   "outputs": [],
   "source": [
    "%matplotlib widget"
   ]
  },
  {
   "attachments": {},
   "cell_type": "markdown",
   "metadata": {},
   "source": [
    "# Basic Fitting Example (WigBayes)\n",
    "\n",
    "### Setting Mean Parameter Data"
   ]
  },
  {
   "cell_type": "code",
   "execution_count": null,
   "metadata": {},
   "outputs": [],
   "source": [
    "A  = 181\n",
    "EB = (1e-5,2550)\n",
    "pM    = [0.12547, 0.14404]\n",
    "FreqF = 1/15\n",
    "Freq  = [1/8.9868, 1/8.3065]\n",
    "Gnm   = [44.11355, 33.38697]\n",
    "Ggm   = [55.00000, 55.00000]\n",
    "dfn   = [1, 1]\n",
    "dfg   = [250, 250]\n",
    "l     = [0, 0]\n",
    "j     = [3.0, 4.0]\n",
    "\n",
    "SGs = SpinGroups.make(l, j)\n",
    "MP = Resonances.MeanParameters(Freq=Freq, Gnm=Gnm, nDOF=dfn, Ggm=Ggm, gDOF=dfg, A=A, sg=SGs, EB=EB, FreqF=FreqF)"
   ]
  },
  {
   "attachments": {},
   "cell_type": "markdown",
   "metadata": {},
   "source": [
    "### Sample Resonance Ladder"
   ]
  },
  {
   "cell_type": "code",
   "execution_count": null,
   "metadata": {},
   "outputs": [],
   "source": [
    "Res, Types, Missed_Res, Missed_Types = MP.sample()"
   ]
  },
  {
   "cell_type": "code",
   "execution_count": null,
   "metadata": {},
   "outputs": [],
   "source": [
    "Prior, TPPrior = PTBayes(Res, MP)\n",
    "# runMaster = Levels.RunMaster(Res.E, MP.EB, Prior, TPPrior, MP.FreqAll)\n",
    "distributions = MP.distributions('Wigner')\n",
    "runMaster = Levels.RunMaster(Res.E, MP.EB, Prior, TPPrior, distributions, MP.FreqF)\n",
    "Posterior, log_total_probability = runMaster.WigBayes(return_log_tot_prob=True, verbose=True)"
   ]
  },
  {
   "attachments": {},
   "cell_type": "markdown",
   "metadata": {},
   "source": [
    "### Results:"
   ]
  },
  {
   "cell_type": "code",
   "execution_count": null,
   "metadata": {},
   "outputs": [],
   "source": [
    "Results.PrintScore(Prior, Types, 'PT-only')\n",
    "Results.PrintScore(Posterior, Types, 'Wigner+PT')\n",
    "print()\n",
    "Results.ConfusionMatrix(Posterior, Types, ['A', 'B', 'F'])\n",
    "print()\n",
    "Results.ProbCorrPlot(Posterior, Types, ['A', 'B', 'F'])"
   ]
  },
  {
   "cell_type": "code",
   "execution_count": null,
   "metadata": {},
   "outputs": [],
   "source": [
    "print(Posterior)"
   ]
  },
  {
   "attachments": {},
   "cell_type": "markdown",
   "metadata": {},
   "source": [
    "# Basic Spingroup Sampling (WigSample)\n",
    "\n",
    "..."
   ]
  }
 ],
 "metadata": {
  "kernelspec": {
   "display_name": "base",
   "language": "python",
   "name": "python3"
  },
  "language_info": {
   "codemirror_mode": {
    "name": "ipython",
    "version": 3
   },
   "file_extension": ".py",
   "mimetype": "text/x-python",
   "name": "python",
   "nbconvert_exporter": "python",
   "pygments_lexer": "ipython3",
   "version": "3.8.5"
  },
  "orig_nbformat": 4,
  "vscode": {
   "interpreter": {
    "hash": "6b1e05b977db2afb962b02c3fca19b9b91f366c5b7e6333f69a37f5ba397db57"
   }
  }
 },
 "nbformat": 4,
 "nbformat_minor": 2
}
