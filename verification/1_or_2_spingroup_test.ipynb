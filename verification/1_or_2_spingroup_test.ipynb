{
 "cells": [
  {
   "attachments": {},
   "cell_type": "markdown",
   "metadata": {},
   "source": [
    "# Purpose\n",
    "Here, we intend to verify that the 1-spingroup Encore algorithms converges to the 2-spingroup Encore algorithms when the one spingroup is very infrequent (i.e. low level-density)."
   ]
  },
  {
   "attachments": {},
   "cell_type": "markdown",
   "metadata": {},
   "source": [
    "# Importing Modules"
   ]
  },
  {
   "cell_type": "code",
   "execution_count": 1,
   "metadata": {},
   "outputs": [],
   "source": [
    "import sys\n",
    "sys.path.append('../')\n",
    "\n",
    "import Levels\n",
    "import Results\n",
    "from RMatrix import PTBayes\n",
    "import Resonances\n",
    "from SpinGroups import SpinGroups\n",
    "\n",
    "import numpy as np\n",
    "import matplotlib.pyplot as plt\n",
    "\n",
    "np.set_printoptions(precision=6, edgeitems=9, linewidth=130)"
   ]
  },
  {
   "cell_type": "code",
   "execution_count": 2,
   "metadata": {},
   "outputs": [],
   "source": [
    "%matplotlib widget"
   ]
  },
  {
   "attachments": {},
   "cell_type": "markdown",
   "metadata": {},
   "source": [
    "# WigBayes Test\n",
    "\n",
    "#### Gathering Mean Parameters"
   ]
  },
  {
   "cell_type": "code",
   "execution_count": 3,
   "metadata": {},
   "outputs": [],
   "source": [
    "eps = 0.005 # ...\n",
    "\n",
    "A  = 181\n",
    "EB = (1e-5,5000)\n",
    "pM    = [0.12547, 0.14404]\n",
    "FreqF = 1.0/6.0\n",
    "Freq  = [(1-eps)/4.3166, eps/4.3166]\n",
    "Gnm   = [44.11355, 33.38697]\n",
    "Ggm   = [55.00000, 55.00000]\n",
    "dfn   = [1, 1]\n",
    "dfg   = [250, 250]\n",
    "l     = [0, 0]\n",
    "j     = [3.0, 4.0]\n",
    "\n",
    "# 2 Spingroup Case:\n",
    "SGs = SpinGroups.make(l, j)\n",
    "MP2 = Resonances.MeanParameters(Freq=Freq, Gnm=Gnm, nDOF=dfn, Ggm=Ggm, gDOF=dfg, A=A, sg=SGs, EB=EB, FreqF=FreqF)\n",
    "\n",
    "# 1 Spingroup Case:\n",
    "SGs = SpinGroups.make(l[:1], j[:1])\n",
    "MP1 = Resonances.MeanParameters(Freq=Freq[:1], Gnm=Gnm[:1], nDOF=dfn[:1], Ggm=Ggm[:1], gDOF=dfg[:1], A=A, sg=SGs, EB=EB, FreqF=FreqF)"
   ]
  },
  {
   "attachments": {},
   "cell_type": "markdown",
   "metadata": {},
   "source": [
    "#### Sampler"
   ]
  },
  {
   "cell_type": "code",
   "execution_count": 4,
   "metadata": {},
   "outputs": [],
   "source": [
    "Res, Types, Missed_Res, Missed_Types = MP2.sample()"
   ]
  },
  {
   "attachments": {},
   "cell_type": "markdown",
   "metadata": {},
   "source": [
    "#### Running 1-Spingroup WigBayes"
   ]
  },
  {
   "cell_type": "code",
   "execution_count": 5,
   "metadata": {},
   "outputs": [
    {
     "name": "stdout",
     "output_type": "stream",
     "text": [
      "Preparing level-spacings\n",
      "Finished level-spacing calculations\n",
      "Finished CP calculation\n",
      "Finished WigBayes calculation\n"
     ]
    }
   ],
   "source": [
    "Prior, TPPrior = PTBayes(Res, MP1)\n",
    "distributions = MP1.distributions('Wigner')\n",
    "runMaster = Levels.RunMaster(Res.E, MP1.EB, Prior, TPPrior, distributions, MP1.FreqF)\n",
    "Posterior_1, log_total_probability_1 = runMaster.WigBayes(return_log_tot_prob=True, verbose=True)"
   ]
  },
  {
   "attachments": {},
   "cell_type": "markdown",
   "metadata": {},
   "source": [
    "#### Running 2-Spingroup WigBayes"
   ]
  },
  {
   "cell_type": "code",
   "execution_count": 6,
   "metadata": {},
   "outputs": [
    {
     "name": "stdout",
     "output_type": "stream",
     "text": [
      "Preparing level-spacings\n",
      "Finished level-spacing calculations\n"
     ]
    },
    {
     "ename": "KeyboardInterrupt",
     "evalue": "",
     "output_type": "error",
     "traceback": [
      "\u001b[0;31m---------------------------------------------------------------------------\u001b[0m",
      "\u001b[0;31mKeyboardInterrupt\u001b[0m                         Traceback (most recent call last)",
      "\u001b[0;32m<ipython-input-6-17bf7f00b33f>\u001b[0m in \u001b[0;36m<module>\u001b[0;34m\u001b[0m\n\u001b[1;32m      2\u001b[0m \u001b[0mdistributions\u001b[0m \u001b[0;34m=\u001b[0m \u001b[0mMP2\u001b[0m\u001b[0;34m.\u001b[0m\u001b[0mdistributions\u001b[0m\u001b[0;34m(\u001b[0m\u001b[0;34m'Wigner'\u001b[0m\u001b[0;34m)\u001b[0m\u001b[0;34m\u001b[0m\u001b[0;34m\u001b[0m\u001b[0m\n\u001b[1;32m      3\u001b[0m \u001b[0mrunMaster\u001b[0m \u001b[0;34m=\u001b[0m \u001b[0mLevels\u001b[0m\u001b[0;34m.\u001b[0m\u001b[0mRunMaster\u001b[0m\u001b[0;34m(\u001b[0m\u001b[0mRes\u001b[0m\u001b[0;34m.\u001b[0m\u001b[0mE\u001b[0m\u001b[0;34m,\u001b[0m \u001b[0mMP2\u001b[0m\u001b[0;34m.\u001b[0m\u001b[0mEB\u001b[0m\u001b[0;34m,\u001b[0m \u001b[0mPrior\u001b[0m\u001b[0;34m,\u001b[0m \u001b[0mTPPrior\u001b[0m\u001b[0;34m,\u001b[0m \u001b[0mdistributions\u001b[0m\u001b[0;34m,\u001b[0m \u001b[0mMP2\u001b[0m\u001b[0;34m.\u001b[0m\u001b[0mFreqF\u001b[0m\u001b[0;34m)\u001b[0m\u001b[0;34m\u001b[0m\u001b[0;34m\u001b[0m\u001b[0m\n\u001b[0;32m----> 4\u001b[0;31m \u001b[0mPosterior_2\u001b[0m\u001b[0;34m,\u001b[0m \u001b[0mlog_total_probability_2\u001b[0m \u001b[0;34m=\u001b[0m \u001b[0mrunMaster\u001b[0m\u001b[0;34m.\u001b[0m\u001b[0mWigBayes\u001b[0m\u001b[0;34m(\u001b[0m\u001b[0mreturn_log_tot_prob\u001b[0m\u001b[0;34m=\u001b[0m\u001b[0;32mTrue\u001b[0m\u001b[0;34m,\u001b[0m \u001b[0mverbose\u001b[0m\u001b[0;34m=\u001b[0m\u001b[0;32mTrue\u001b[0m\u001b[0;34m)\u001b[0m\u001b[0;34m\u001b[0m\u001b[0;34m\u001b[0m\u001b[0m\n\u001b[0m",
      "\u001b[0;32m~/ENCORE/TAZ/Levels.py\u001b[0m in \u001b[0;36mWigBayes\u001b[0;34m(s, return_log_tot_prob, verbose)\u001b[0m\n\u001b[1;32m    455\u001b[0m             \u001b[0mlevel_spacing_probs_g\u001b[0m\u001b[0;34m,\u001b[0m \u001b[0miMax_g\u001b[0m\u001b[0;34m,\u001b[0m \u001b[0mprior_g\u001b[0m \u001b[0;34m=\u001b[0m \u001b[0ms\u001b[0m\u001b[0;34m.\u001b[0m\u001b[0mmergePartitioner\u001b[0m\u001b[0;34m(\u001b[0m\u001b[0;34m[\u001b[0m\u001b[0;34m[\u001b[0m\u001b[0;36m0\u001b[0m\u001b[0;34m]\u001b[0m\u001b[0;34m,\u001b[0m \u001b[0;34m[\u001b[0m\u001b[0;36m1\u001b[0m\u001b[0;34m]\u001b[0m\u001b[0;34m]\u001b[0m\u001b[0;34m)\u001b[0m\u001b[0;34m\u001b[0m\u001b[0;34m\u001b[0m\u001b[0m\n\u001b[1;32m    456\u001b[0m             \u001b[0;32mif\u001b[0m \u001b[0mverbose\u001b[0m\u001b[0;34m:\u001b[0m \u001b[0mprint\u001b[0m\u001b[0;34m(\u001b[0m\u001b[0;34mf'Finished level-spacing calculations'\u001b[0m\u001b[0;34m)\u001b[0m\u001b[0;34m\u001b[0m\u001b[0;34m\u001b[0m\u001b[0m\n\u001b[0;32m--> 457\u001b[0;31m             \u001b[0mENCORE\u001b[0m \u001b[0;34m=\u001b[0m \u001b[0mEncore\u001b[0m\u001b[0;34m(\u001b[0m\u001b[0mprior_g\u001b[0m\u001b[0;34m,\u001b[0m \u001b[0mlevel_spacing_probs_g\u001b[0m\u001b[0;34m,\u001b[0m \u001b[0miMax_g\u001b[0m\u001b[0;34m)\u001b[0m\u001b[0;34m\u001b[0m\u001b[0;34m\u001b[0m\u001b[0m\n\u001b[0m\u001b[1;32m    458\u001b[0m             \u001b[0;32mif\u001b[0m \u001b[0mverbose\u001b[0m\u001b[0;34m:\u001b[0m \u001b[0mprint\u001b[0m\u001b[0;34m(\u001b[0m\u001b[0;34mf'Finished CP calculation'\u001b[0m\u001b[0;34m)\u001b[0m\u001b[0;34m\u001b[0m\u001b[0;34m\u001b[0m\u001b[0m\n\u001b[1;32m    459\u001b[0m             \u001b[0msg_probs\u001b[0m \u001b[0;34m=\u001b[0m \u001b[0mENCORE\u001b[0m\u001b[0;34m.\u001b[0m\u001b[0mWigBayes\u001b[0m\u001b[0;34m(\u001b[0m\u001b[0;34m)\u001b[0m\u001b[0;34m\u001b[0m\u001b[0;34m\u001b[0m\u001b[0m\n",
      "\u001b[0;32m~/ENCORE/TAZ/Encore.py\u001b[0m in \u001b[0;36m__init__\u001b[0;34m(self, prior, level_spacing_probs, iMax)\u001b[0m\n\u001b[1;32m    102\u001b[0m         \u001b[0;31m# Calculating \"CP\" and \"TP\":\u001b[0m\u001b[0;34m\u001b[0m\u001b[0;34m\u001b[0m\u001b[0;34m\u001b[0m\u001b[0m\n\u001b[1;32m    103\u001b[0m         \u001b[0;32mif\u001b[0m   \u001b[0mself\u001b[0m\u001b[0;34m.\u001b[0m\u001b[0mG\u001b[0m \u001b[0;34m==\u001b[0m \u001b[0;36m1\u001b[0m\u001b[0;34m:\u001b[0m       \u001b[0mself\u001b[0m\u001b[0;34m.\u001b[0m\u001b[0m__makeCP1\u001b[0m\u001b[0;34m(\u001b[0m\u001b[0;34m)\u001b[0m\u001b[0;34m\u001b[0m\u001b[0;34m\u001b[0m\u001b[0m\n\u001b[0;32m--> 104\u001b[0;31m         \u001b[0;32melif\u001b[0m \u001b[0mself\u001b[0m\u001b[0;34m.\u001b[0m\u001b[0mG\u001b[0m \u001b[0;34m==\u001b[0m \u001b[0;36m2\u001b[0m\u001b[0;34m:\u001b[0m       \u001b[0mself\u001b[0m\u001b[0;34m.\u001b[0m\u001b[0m__makeCP2\u001b[0m\u001b[0;34m(\u001b[0m\u001b[0;34m)\u001b[0m\u001b[0;34m\u001b[0m\u001b[0;34m\u001b[0m\u001b[0m\n\u001b[0m\u001b[1;32m    105\u001b[0m         \u001b[0mself\u001b[0m\u001b[0;34m.\u001b[0m\u001b[0m__makeTP\u001b[0m\u001b[0;34m(\u001b[0m\u001b[0;34m)\u001b[0m\u001b[0;34m\u001b[0m\u001b[0;34m\u001b[0m\u001b[0m\n\u001b[1;32m    106\u001b[0m \u001b[0;34m\u001b[0m\u001b[0m\n",
      "\u001b[0;32m~/ENCORE/TAZ/Encore.py\u001b[0m in \u001b[0;36m__makeCP2\u001b[0;34m(s)\u001b[0m\n\u001b[1;32m    238\u001b[0m                         \u001b[0mj2\u001b[0m \u001b[0;34m=\u001b[0m \u001b[0;34m[\u001b[0m\u001b[0;34m]\u001b[0m  \u001b[0;34m;\u001b[0m      \u001b[0mls2\u001b[0m \u001b[0;34m=\u001b[0m \u001b[0;34m[\u001b[0m\u001b[0;34m]\u001b[0m\u001b[0;34m\u001b[0m\u001b[0;34m\u001b[0m\u001b[0m\n\u001b[1;32m    239\u001b[0m                     \u001b[0;32melse\u001b[0m\u001b[0;34m:\u001b[0m\u001b[0;34m\u001b[0m\u001b[0;34m\u001b[0m\u001b[0m\n\u001b[0;32m--> 240\u001b[0;31m                         \u001b[0mj1\u001b[0m \u001b[0;34m=\u001b[0m \u001b[0mrange\u001b[0m\u001b[0;34m(\u001b[0m\u001b[0mi1R\u001b[0m\u001b[0;34m+\u001b[0m\u001b[0;36m1\u001b[0m\u001b[0;34m,\u001b[0m \u001b[0mi2R\u001b[0m\u001b[0;34m)\u001b[0m         \u001b[0;34m;\u001b[0m    \u001b[0mls1\u001b[0m \u001b[0;34m=\u001b[0m \u001b[0mls\u001b[0m\u001b[0;34m[\u001b[0m\u001b[0;34m:\u001b[0m\u001b[0mi2R\u001b[0m\u001b[0;34m-\u001b[0m\u001b[0mi1R\u001b[0m\u001b[0;34m-\u001b[0m\u001b[0;36m1\u001b[0m\u001b[0;34m]\u001b[0m\u001b[0;34m\u001b[0m\u001b[0;34m\u001b[0m\u001b[0m\n\u001b[0m\u001b[1;32m    241\u001b[0m                         \u001b[0mj2\u001b[0m \u001b[0;34m=\u001b[0m \u001b[0mrange\u001b[0m\u001b[0;34m(\u001b[0m\u001b[0mi2R\u001b[0m\u001b[0;34m+\u001b[0m\u001b[0;36m1\u001b[0m\u001b[0;34m,\u001b[0m \u001b[0mjMax\u001b[0m\u001b[0;34m[\u001b[0m\u001b[0mt\u001b[0m\u001b[0;34m,\u001b[0m\u001b[0;36m1\u001b[0m\u001b[0;34m]\u001b[0m\u001b[0;34m+\u001b[0m\u001b[0;36m1\u001b[0m\u001b[0;34m)\u001b[0m \u001b[0;34m;\u001b[0m    \u001b[0mls2\u001b[0m \u001b[0;34m=\u001b[0m \u001b[0mls\u001b[0m\u001b[0;34m[\u001b[0m\u001b[0mi2R\u001b[0m\u001b[0;34m-\u001b[0m\u001b[0mi1R\u001b[0m\u001b[0;34m:\u001b[0m\u001b[0;34m]\u001b[0m\u001b[0;34m\u001b[0m\u001b[0;34m\u001b[0m\u001b[0m\n\u001b[1;32m    242\u001b[0m \u001b[0;34m\u001b[0m\u001b[0m\n",
      "\u001b[0;31mKeyboardInterrupt\u001b[0m: "
     ]
    }
   ],
   "source": [
    "Prior, TPPrior = PTBayes(Res, MP2)\n",
    "distributions = MP2.distributions('Wigner')\n",
    "runMaster = Levels.RunMaster(Res.E, MP2.EB, Prior, TPPrior, distributions, MP2.FreqF)\n",
    "Posterior_2, log_total_probability_2 = runMaster.WigBayes(return_log_tot_prob=True, verbose=True)"
   ]
  },
  {
   "attachments": {},
   "cell_type": "markdown",
   "metadata": {},
   "source": [
    "### Comparison"
   ]
  },
  {
   "cell_type": "code",
   "execution_count": null,
   "metadata": {},
   "outputs": [],
   "source": [
    "abs_err_true  = abs(Posterior_2[:,0] - Posterior_1[:,0])\n",
    "abs_err_false = abs(Posterior_2[:,2] - Posterior_1[:,1])\n",
    "\n",
    "average_err_true  = np.mean(abs_err_true)\n",
    "average_err_false = np.mean(abs_err_false)\n",
    "\n",
    "print(f'Average Error for True Probability  = {average_err_true:.5f}')\n",
    "print(f'Average Error for False Probability = {average_err_false:.5f}')\n",
    "print()\n",
    "\n",
    "plt.figure(1)\n",
    "plt.clf()\n",
    "plt.hist(abs_err_true, bins=20, density=True)\n",
    "plt.grid()\n",
    "plt.title('Error for True Resonances', fontsize=18)\n",
    "plt.xlabel('Absolute Error', fontsize=16)\n",
    "plt.ylabel('Frequency', fontsize=16)\n",
    "plt.tight_layout()\n",
    "plt.show()\n",
    "\n",
    "plt.figure(2)\n",
    "plt.clf()\n",
    "plt.hist(abs_err_false, bins=20, density=True)\n",
    "plt.grid()\n",
    "plt.title('Error for False Resonances', fontsize=18)\n",
    "plt.xlabel('Absolute Error', fontsize=16)\n",
    "plt.ylabel('Frequency', fontsize=16)\n",
    "plt.tight_layout()\n",
    "plt.show()"
   ]
  },
  {
   "attachments": {},
   "cell_type": "markdown",
   "metadata": {},
   "source": [
    "### Comparing Posteriors:"
   ]
  },
  {
   "cell_type": "code",
   "execution_count": null,
   "metadata": {},
   "outputs": [],
   "source": [
    "print('True Spingroup Posterior:')\n",
    "print(np.concatenate((Posterior_1[:,:1], Posterior_2[:,:1]), axis=1))\n",
    "print()\n",
    "print('False Spingroup Posterior:')\n",
    "print(np.concatenate((Posterior_1[:,1:], Posterior_2[:,2:]), axis=1))"
   ]
  }
 ],
 "metadata": {
  "kernelspec": {
   "display_name": "base",
   "language": "python",
   "name": "python3"
  },
  "language_info": {
   "codemirror_mode": {
    "name": "ipython",
    "version": 3
   },
   "file_extension": ".py",
   "mimetype": "text/x-python",
   "name": "python",
   "nbconvert_exporter": "python",
   "pygments_lexer": "ipython3",
   "version": "3.8.5"
  },
  "orig_nbformat": 4,
  "vscode": {
   "interpreter": {
    "hash": "6b1e05b977db2afb962b02c3fca19b9b91f366c5b7e6333f69a37f5ba397db57"
   }
  }
 },
 "nbformat": 4,
 "nbformat_minor": 2
}
