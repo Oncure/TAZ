{
 "cells": [
  {
   "attachments": {},
   "cell_type": "markdown",
   "metadata": {},
   "source": [
    "# Premise\n",
    "Suppose we create an empirical CDF on all observed resonances. If we perform a Mehta Delta-3 statistic on the empirical CDF, we can estimate the number of false and missing resonances. This would be independent of spin-group assignment. However, we need to know the expected results with certain false and missing fractions and level-spacings for each spingroup involved."
   ]
  },
  {
   "cell_type": "code",
   "execution_count": 813,
   "metadata": {},
   "outputs": [],
   "source": [
    "import math\n",
    "import numpy as np\n",
    "import matplotlib.pyplot as plt\n",
    "from scipy.optimize import minimize\n",
    "from scipy.stats import norm"
   ]
  },
  {
   "attachments": {},
   "cell_type": "markdown",
   "metadata": {},
   "source": [
    "# Functions"
   ]
  },
  {
   "cell_type": "code",
   "execution_count": 743,
   "metadata": {},
   "outputs": [],
   "source": [
    "def plot_ecdf(X, E0=0.0, color='k', Density:bool=False, label:str=None):\n",
    "    N = len(X)\n",
    "    if label is None:\n",
    "        plt.hlines(0.0, E0, X[0], color)\n",
    "    else:\n",
    "        plt.hlines(0.0, E0, X[0], color, label=label)\n",
    "    if Density:\n",
    "        [plt.hlines(idx/N, X[idx-1], X[idx], color) for idx in range(1,N)]\n",
    "        [plt.vlines(x, idx/N, (idx+1)/N, color) for idx, x in enumerate(X)]\n",
    "    else:\n",
    "        [plt.hlines(idx, X[idx-1], X[idx], color) for idx in range(1,N)]\n",
    "        [plt.vlines(x, idx, (idx+1), color) for idx, x in enumerate(X)]\n",
    "\n",
    "def WigSemicircleCDF(x):\n",
    "    \"\"\"\n",
    "    CDF of Wigner's semicircle law distribution\n",
    "    \"\"\"\n",
    "    return (x/math.pi) * np.sqrt(1.0 - x**2) + np.arcsin(x)/math.pi + 0.5\n",
    "\n",
    "def SampleEnergies(EB, Freq, w=None, ensemble='NNE', seed=None, verbose:bool=False):\n",
    "    \"\"\"\n",
    "    ...\n",
    "    \"\"\"\n",
    "\n",
    "    if seed is None:\n",
    "        seed = np.random.randint(10000)\n",
    "        if verbose: print(f'Seed: {seed}')\n",
    "    rng = np.random.default_rng(seed)\n",
    "\n",
    "    MULTIPLIER = 5\n",
    "    \n",
    "    if w == None:       w = 1.0\n",
    "    if (ensemble in ('GOE','GUE','GSE')) and (w != 1.0):\n",
    "        raise NotImplementedError(f'Cannot sample \"{ensemble}\" with Brody parameters')\n",
    "\n",
    "    if ensemble == 'NNE': # Nearest Neighbor Ensemble\n",
    "        # Sig = 6.0\n",
    "        # wig_std = 0.522723200877 # Normalized Wigner distribution standard deviation\n",
    "        if w == 1.0:\n",
    "            L_Guess =  Freq * (EB[1] - EB[0]) * MULTIPLIER\n",
    "            #L_Guess *= 1.5\n",
    "            #L_Guess += Sig * wig_std * math.sqrt(L_Guess)\n",
    "            L_Guess = round(L_Guess)\n",
    "\n",
    "            LS = np.zeros(L_Guess+1, dtype='f8')\n",
    "            LS[0]  = EB[0] + abs(rng.normal()) * np.sqrt(2/(math.pi * Freq ** 2))\n",
    "            LS[1:] = np.sqrt((-4/math.pi) * np.log(rng.uniform(size=L_Guess))) / Freq\n",
    "            E = np.cumsum(LS)\n",
    "            E = np.array([e for e in E if e <= EB[1]])\n",
    "        else:\n",
    "            raise NotImplementedError('No functionality for Brody Distribution yet.')\n",
    "\n",
    "    elif ensemble == 'GOE': # Gaussian Orthogonal Ensemble\n",
    "        # Since the eigenvalues do not follow the semicircle distribution\n",
    "        # exactly, there is a small chance for some values that would never\n",
    "        # occur with semicircle distribution. Therefore, we make extra\n",
    "        # eigenvalues and use the ones that are needed. As extra precaution,\n",
    "        # we select eigenvalues within a margin of the edges of the semicircle\n",
    "        # distribution.\n",
    "        margin = 0.1\n",
    "        N_res_est = Freq*(EB[1]-EB[0])\n",
    "        N_Tot = round((1 + 2*margin) * N_res_est)\n",
    "\n",
    "        H = rng.normal(size=(N_Tot,N_Tot)) / math.sqrt(2)\n",
    "        H += H.T\n",
    "        H += math.sqrt(2) * np.diag(rng.normal(size=(N_Tot,)) - np.diag(H))\n",
    "        eigs = np.linalg.eigvals(H) / (2*np.sqrt(N_Tot))\n",
    "        eigs.sort()\n",
    "        eigs = eigs[eigs >= -1.0+margin]\n",
    "        eigs = eigs[eigs <=  1.0-margin]\n",
    "\n",
    "        E = EB[0] + N_Tot * (WigSemicircleCDF(eigs) - WigSemicircleCDF(-1.0+margin)) / Freq\n",
    "        E = E[E < EB[1]]\n",
    "\n",
    "    elif ensemble == 'Poisson':\n",
    "        NumSamples = rng.poisson(Freq * (EB[1]-EB[0]))\n",
    "        E = rng.uniform(low=EB[0], high=EB[1], size=(NumSamples,))\n",
    "\n",
    "    E.sort()\n",
    "    return E"
   ]
  },
  {
   "attachments": {},
   "cell_type": "markdown",
   "metadata": {},
   "source": [
    "# Sampling a combined observed distribution"
   ]
  },
  {
   "cell_type": "code",
   "execution_count": 744,
   "metadata": {},
   "outputs": [],
   "source": [
    "def sample(EB:tuple, Freq, pM:float, pF:float):\n",
    "    EGs = [SampleEnergies(EB, freq, ensemble='GOE') for freq in Freq]\n",
    "    E = np.sort([e for Eg in EGs for e in Eg])\n",
    "    E = E[np.random.rand(E.size) >= pM] # Remove Missing Resonances\n",
    "    FreqF = pF/(1-pF) * np.sum(Freq)\n",
    "    EF = SampleEnergies(EB, FreqF, ensemble='Poisson')\n",
    "    E = np.concatenate((E, EF))\n",
    "    E = np.sort(E)\n",
    "    return E"
   ]
  },
  {
   "cell_type": "code",
   "execution_count": 745,
   "metadata": {},
   "outputs": [],
   "source": [
    "E_max = 100\n",
    "EB = (0,E_max)\n",
    "\n",
    "Freq = np.array([1.0, 1.0]) # Level Densities for each spingroup\n",
    "pM = 0.00 # Percent Missing Resonances\n",
    "pF = 0.4 # Percent False Resonances\n",
    "\n",
    "E = sample(EB, Freq, pM, pF)"
   ]
  },
  {
   "cell_type": "code",
   "execution_count": 746,
   "metadata": {},
   "outputs": [
    {
     "ename": "KeyboardInterrupt",
     "evalue": "",
     "output_type": "error",
     "traceback": [
      "\u001b[0;31m---------------------------------------------------------------------------\u001b[0m",
      "\u001b[0;31mKeyboardInterrupt\u001b[0m                         Traceback (most recent call last)",
      "\u001b[0;32m<ipython-input-746-31da8a043504>\u001b[0m in \u001b[0;36m<module>\u001b[0;34m\u001b[0m\n\u001b[0;32m----> 1\u001b[0;31m \u001b[0mplot_ecdf\u001b[0m\u001b[0;34m(\u001b[0m\u001b[0mE\u001b[0m\u001b[0;34m)\u001b[0m\u001b[0;34m\u001b[0m\u001b[0;34m\u001b[0m\u001b[0m\n\u001b[0m",
      "\u001b[0;32m<ipython-input-743-1623d4f7d83b>\u001b[0m in \u001b[0;36mplot_ecdf\u001b[0;34m(X, E0, color, Density, label)\u001b[0m\n\u001b[1;32m     10\u001b[0m     \u001b[0;32melse\u001b[0m\u001b[0;34m:\u001b[0m\u001b[0;34m\u001b[0m\u001b[0;34m\u001b[0m\u001b[0m\n\u001b[1;32m     11\u001b[0m         \u001b[0;34m[\u001b[0m\u001b[0mplt\u001b[0m\u001b[0;34m.\u001b[0m\u001b[0mhlines\u001b[0m\u001b[0;34m(\u001b[0m\u001b[0midx\u001b[0m\u001b[0;34m,\u001b[0m \u001b[0mX\u001b[0m\u001b[0;34m[\u001b[0m\u001b[0midx\u001b[0m\u001b[0;34m-\u001b[0m\u001b[0;36m1\u001b[0m\u001b[0;34m]\u001b[0m\u001b[0;34m,\u001b[0m \u001b[0mX\u001b[0m\u001b[0;34m[\u001b[0m\u001b[0midx\u001b[0m\u001b[0;34m]\u001b[0m\u001b[0;34m,\u001b[0m \u001b[0mcolor\u001b[0m\u001b[0;34m)\u001b[0m \u001b[0;32mfor\u001b[0m \u001b[0midx\u001b[0m \u001b[0;32min\u001b[0m \u001b[0mrange\u001b[0m\u001b[0;34m(\u001b[0m\u001b[0;36m1\u001b[0m\u001b[0;34m,\u001b[0m\u001b[0mN\u001b[0m\u001b[0;34m)\u001b[0m\u001b[0;34m]\u001b[0m\u001b[0;34m\u001b[0m\u001b[0;34m\u001b[0m\u001b[0m\n\u001b[0;32m---> 12\u001b[0;31m         \u001b[0;34m[\u001b[0m\u001b[0mplt\u001b[0m\u001b[0;34m.\u001b[0m\u001b[0mvlines\u001b[0m\u001b[0;34m(\u001b[0m\u001b[0mx\u001b[0m\u001b[0;34m,\u001b[0m \u001b[0midx\u001b[0m\u001b[0;34m,\u001b[0m \u001b[0;34m(\u001b[0m\u001b[0midx\u001b[0m\u001b[0;34m+\u001b[0m\u001b[0;36m1\u001b[0m\u001b[0;34m)\u001b[0m\u001b[0;34m,\u001b[0m \u001b[0mcolor\u001b[0m\u001b[0;34m)\u001b[0m \u001b[0;32mfor\u001b[0m \u001b[0midx\u001b[0m\u001b[0;34m,\u001b[0m \u001b[0mx\u001b[0m \u001b[0;32min\u001b[0m \u001b[0menumerate\u001b[0m\u001b[0;34m(\u001b[0m\u001b[0mX\u001b[0m\u001b[0;34m)\u001b[0m\u001b[0;34m]\u001b[0m\u001b[0;34m\u001b[0m\u001b[0;34m\u001b[0m\u001b[0m\n\u001b[0m\u001b[1;32m     13\u001b[0m \u001b[0;34m\u001b[0m\u001b[0m\n\u001b[1;32m     14\u001b[0m \u001b[0;32mdef\u001b[0m \u001b[0mWigSemicircleCDF\u001b[0m\u001b[0;34m(\u001b[0m\u001b[0mx\u001b[0m\u001b[0;34m)\u001b[0m\u001b[0;34m:\u001b[0m\u001b[0;34m\u001b[0m\u001b[0;34m\u001b[0m\u001b[0m\n",
      "\u001b[0;32m<ipython-input-743-1623d4f7d83b>\u001b[0m in \u001b[0;36m<listcomp>\u001b[0;34m(.0)\u001b[0m\n\u001b[1;32m     10\u001b[0m     \u001b[0;32melse\u001b[0m\u001b[0;34m:\u001b[0m\u001b[0;34m\u001b[0m\u001b[0;34m\u001b[0m\u001b[0m\n\u001b[1;32m     11\u001b[0m         \u001b[0;34m[\u001b[0m\u001b[0mplt\u001b[0m\u001b[0;34m.\u001b[0m\u001b[0mhlines\u001b[0m\u001b[0;34m(\u001b[0m\u001b[0midx\u001b[0m\u001b[0;34m,\u001b[0m \u001b[0mX\u001b[0m\u001b[0;34m[\u001b[0m\u001b[0midx\u001b[0m\u001b[0;34m-\u001b[0m\u001b[0;36m1\u001b[0m\u001b[0;34m]\u001b[0m\u001b[0;34m,\u001b[0m \u001b[0mX\u001b[0m\u001b[0;34m[\u001b[0m\u001b[0midx\u001b[0m\u001b[0;34m]\u001b[0m\u001b[0;34m,\u001b[0m \u001b[0mcolor\u001b[0m\u001b[0;34m)\u001b[0m \u001b[0;32mfor\u001b[0m \u001b[0midx\u001b[0m \u001b[0;32min\u001b[0m \u001b[0mrange\u001b[0m\u001b[0;34m(\u001b[0m\u001b[0;36m1\u001b[0m\u001b[0;34m,\u001b[0m\u001b[0mN\u001b[0m\u001b[0;34m)\u001b[0m\u001b[0;34m]\u001b[0m\u001b[0;34m\u001b[0m\u001b[0;34m\u001b[0m\u001b[0m\n\u001b[0;32m---> 12\u001b[0;31m         \u001b[0;34m[\u001b[0m\u001b[0mplt\u001b[0m\u001b[0;34m.\u001b[0m\u001b[0mvlines\u001b[0m\u001b[0;34m(\u001b[0m\u001b[0mx\u001b[0m\u001b[0;34m,\u001b[0m \u001b[0midx\u001b[0m\u001b[0;34m,\u001b[0m \u001b[0;34m(\u001b[0m\u001b[0midx\u001b[0m\u001b[0;34m+\u001b[0m\u001b[0;36m1\u001b[0m\u001b[0;34m)\u001b[0m\u001b[0;34m,\u001b[0m \u001b[0mcolor\u001b[0m\u001b[0;34m)\u001b[0m \u001b[0;32mfor\u001b[0m \u001b[0midx\u001b[0m\u001b[0;34m,\u001b[0m \u001b[0mx\u001b[0m \u001b[0;32min\u001b[0m \u001b[0menumerate\u001b[0m\u001b[0;34m(\u001b[0m\u001b[0mX\u001b[0m\u001b[0;34m)\u001b[0m\u001b[0;34m]\u001b[0m\u001b[0;34m\u001b[0m\u001b[0;34m\u001b[0m\u001b[0m\n\u001b[0m\u001b[1;32m     13\u001b[0m \u001b[0;34m\u001b[0m\u001b[0m\n\u001b[1;32m     14\u001b[0m \u001b[0;32mdef\u001b[0m \u001b[0mWigSemicircleCDF\u001b[0m\u001b[0;34m(\u001b[0m\u001b[0mx\u001b[0m\u001b[0;34m)\u001b[0m\u001b[0;34m:\u001b[0m\u001b[0;34m\u001b[0m\u001b[0;34m\u001b[0m\u001b[0m\n",
      "\u001b[0;32m~/opt/anaconda3/lib/python3.8/site-packages/matplotlib/pyplot.py\u001b[0m in \u001b[0;36mvlines\u001b[0;34m(x, ymin, ymax, colors, linestyles, label, data, **kwargs)\u001b[0m\n\u001b[1;32m   2992\u001b[0m         \u001b[0mx\u001b[0m\u001b[0;34m,\u001b[0m \u001b[0mymin\u001b[0m\u001b[0;34m,\u001b[0m \u001b[0mymax\u001b[0m\u001b[0;34m,\u001b[0m \u001b[0mcolors\u001b[0m\u001b[0;34m=\u001b[0m\u001b[0;32mNone\u001b[0m\u001b[0;34m,\u001b[0m \u001b[0mlinestyles\u001b[0m\u001b[0;34m=\u001b[0m\u001b[0;34m'solid'\u001b[0m\u001b[0;34m,\u001b[0m \u001b[0mlabel\u001b[0m\u001b[0;34m=\u001b[0m\u001b[0;34m''\u001b[0m\u001b[0;34m,\u001b[0m \u001b[0;34m*\u001b[0m\u001b[0;34m,\u001b[0m\u001b[0;34m\u001b[0m\u001b[0;34m\u001b[0m\u001b[0m\n\u001b[1;32m   2993\u001b[0m         data=None, **kwargs):\n\u001b[0;32m-> 2994\u001b[0;31m     return gca().vlines(\n\u001b[0m\u001b[1;32m   2995\u001b[0m         \u001b[0mx\u001b[0m\u001b[0;34m,\u001b[0m \u001b[0mymin\u001b[0m\u001b[0;34m,\u001b[0m \u001b[0mymax\u001b[0m\u001b[0;34m,\u001b[0m \u001b[0mcolors\u001b[0m\u001b[0;34m=\u001b[0m\u001b[0mcolors\u001b[0m\u001b[0;34m,\u001b[0m \u001b[0mlinestyles\u001b[0m\u001b[0;34m=\u001b[0m\u001b[0mlinestyles\u001b[0m\u001b[0;34m,\u001b[0m\u001b[0;34m\u001b[0m\u001b[0;34m\u001b[0m\u001b[0m\n\u001b[1;32m   2996\u001b[0m         \u001b[0mlabel\u001b[0m\u001b[0;34m=\u001b[0m\u001b[0mlabel\u001b[0m\u001b[0;34m,\u001b[0m \u001b[0;34m**\u001b[0m\u001b[0;34m(\u001b[0m\u001b[0;34m{\u001b[0m\u001b[0;34m\"data\"\u001b[0m\u001b[0;34m:\u001b[0m \u001b[0mdata\u001b[0m\u001b[0;34m}\u001b[0m \u001b[0;32mif\u001b[0m \u001b[0mdata\u001b[0m \u001b[0;32mis\u001b[0m \u001b[0;32mnot\u001b[0m \u001b[0;32mNone\u001b[0m \u001b[0;32melse\u001b[0m \u001b[0;34m{\u001b[0m\u001b[0;34m}\u001b[0m\u001b[0;34m)\u001b[0m\u001b[0;34m,\u001b[0m\u001b[0;34m\u001b[0m\u001b[0;34m\u001b[0m\u001b[0m\n",
      "\u001b[0;32m~/opt/anaconda3/lib/python3.8/site-packages/matplotlib/__init__.py\u001b[0m in \u001b[0;36minner\u001b[0;34m(ax, data, *args, **kwargs)\u001b[0m\n\u001b[1;32m   1431\u001b[0m     \u001b[0;32mdef\u001b[0m \u001b[0minner\u001b[0m\u001b[0;34m(\u001b[0m\u001b[0max\u001b[0m\u001b[0;34m,\u001b[0m \u001b[0;34m*\u001b[0m\u001b[0margs\u001b[0m\u001b[0;34m,\u001b[0m \u001b[0mdata\u001b[0m\u001b[0;34m=\u001b[0m\u001b[0;32mNone\u001b[0m\u001b[0;34m,\u001b[0m \u001b[0;34m**\u001b[0m\u001b[0mkwargs\u001b[0m\u001b[0;34m)\u001b[0m\u001b[0;34m:\u001b[0m\u001b[0;34m\u001b[0m\u001b[0;34m\u001b[0m\u001b[0m\n\u001b[1;32m   1432\u001b[0m         \u001b[0;32mif\u001b[0m \u001b[0mdata\u001b[0m \u001b[0;32mis\u001b[0m \u001b[0;32mNone\u001b[0m\u001b[0;34m:\u001b[0m\u001b[0;34m\u001b[0m\u001b[0;34m\u001b[0m\u001b[0m\n\u001b[0;32m-> 1433\u001b[0;31m             \u001b[0;32mreturn\u001b[0m \u001b[0mfunc\u001b[0m\u001b[0;34m(\u001b[0m\u001b[0max\u001b[0m\u001b[0;34m,\u001b[0m \u001b[0;34m*\u001b[0m\u001b[0mmap\u001b[0m\u001b[0;34m(\u001b[0m\u001b[0msanitize_sequence\u001b[0m\u001b[0;34m,\u001b[0m \u001b[0margs\u001b[0m\u001b[0;34m)\u001b[0m\u001b[0;34m,\u001b[0m \u001b[0;34m**\u001b[0m\u001b[0mkwargs\u001b[0m\u001b[0;34m)\u001b[0m\u001b[0;34m\u001b[0m\u001b[0;34m\u001b[0m\u001b[0m\n\u001b[0m\u001b[1;32m   1434\u001b[0m \u001b[0;34m\u001b[0m\u001b[0m\n\u001b[1;32m   1435\u001b[0m         \u001b[0mbound\u001b[0m \u001b[0;34m=\u001b[0m \u001b[0mnew_sig\u001b[0m\u001b[0;34m.\u001b[0m\u001b[0mbind\u001b[0m\u001b[0;34m(\u001b[0m\u001b[0max\u001b[0m\u001b[0;34m,\u001b[0m \u001b[0;34m*\u001b[0m\u001b[0margs\u001b[0m\u001b[0;34m,\u001b[0m \u001b[0;34m**\u001b[0m\u001b[0mkwargs\u001b[0m\u001b[0;34m)\u001b[0m\u001b[0;34m\u001b[0m\u001b[0;34m\u001b[0m\u001b[0m\n",
      "\u001b[0;32m~/opt/anaconda3/lib/python3.8/site-packages/matplotlib/axes/_axes.py\u001b[0m in \u001b[0;36mvlines\u001b[0;34m(self, x, ymin, ymax, colors, linestyles, label, **kwargs)\u001b[0m\n\u001b[1;32m   1170\u001b[0m                                      linestyles=linestyles, label=label)\n\u001b[1;32m   1171\u001b[0m         \u001b[0mself\u001b[0m\u001b[0;34m.\u001b[0m\u001b[0madd_collection\u001b[0m\u001b[0;34m(\u001b[0m\u001b[0mlines\u001b[0m\u001b[0;34m,\u001b[0m \u001b[0mautolim\u001b[0m\u001b[0;34m=\u001b[0m\u001b[0;32mFalse\u001b[0m\u001b[0;34m)\u001b[0m\u001b[0;34m\u001b[0m\u001b[0;34m\u001b[0m\u001b[0m\n\u001b[0;32m-> 1172\u001b[0;31m         \u001b[0mlines\u001b[0m\u001b[0;34m.\u001b[0m\u001b[0m_internal_update\u001b[0m\u001b[0;34m(\u001b[0m\u001b[0mkwargs\u001b[0m\u001b[0;34m)\u001b[0m\u001b[0;34m\u001b[0m\u001b[0;34m\u001b[0m\u001b[0m\n\u001b[0m\u001b[1;32m   1173\u001b[0m \u001b[0;34m\u001b[0m\u001b[0m\n\u001b[1;32m   1174\u001b[0m         \u001b[0;32mif\u001b[0m \u001b[0mlen\u001b[0m\u001b[0;34m(\u001b[0m\u001b[0mx\u001b[0m\u001b[0;34m)\u001b[0m \u001b[0;34m>\u001b[0m \u001b[0;36m0\u001b[0m\u001b[0;34m:\u001b[0m\u001b[0;34m\u001b[0m\u001b[0;34m\u001b[0m\u001b[0m\n",
      "\u001b[0;32m~/opt/anaconda3/lib/python3.8/site-packages/matplotlib/artist.py\u001b[0m in \u001b[0;36m_internal_update\u001b[0;34m(self, kwargs)\u001b[0m\n\u001b[1;32m   1184\u001b[0m         \u001b[0mThe\u001b[0m \u001b[0mlack\u001b[0m \u001b[0mof\u001b[0m \u001b[0mprenormalization\u001b[0m \u001b[0;32mis\u001b[0m \u001b[0mto\u001b[0m \u001b[0mmaintain\u001b[0m \u001b[0mbackcompatibility\u001b[0m\u001b[0;34m.\u001b[0m\u001b[0;34m\u001b[0m\u001b[0;34m\u001b[0m\u001b[0m\n\u001b[1;32m   1185\u001b[0m         \"\"\"\n\u001b[0;32m-> 1186\u001b[0;31m         return self._update_props(\n\u001b[0m\u001b[1;32m   1187\u001b[0m             \u001b[0mkwargs\u001b[0m\u001b[0;34m,\u001b[0m \u001b[0;34m\"{cls.__name__}.set() got an unexpected keyword argument \"\u001b[0m\u001b[0;34m\u001b[0m\u001b[0;34m\u001b[0m\u001b[0m\n\u001b[1;32m   1188\u001b[0m             \"{prop_name!r}\")\n",
      "\u001b[0;32m~/opt/anaconda3/lib/python3.8/site-packages/matplotlib/artist.py\u001b[0m in \u001b[0;36m_update_props\u001b[0;34m(self, props, errfmt)\u001b[0m\n\u001b[1;32m   1149\u001b[0m         \"\"\"\n\u001b[1;32m   1150\u001b[0m         \u001b[0mret\u001b[0m \u001b[0;34m=\u001b[0m \u001b[0;34m[\u001b[0m\u001b[0;34m]\u001b[0m\u001b[0;34m\u001b[0m\u001b[0;34m\u001b[0m\u001b[0m\n\u001b[0;32m-> 1151\u001b[0;31m         \u001b[0;32mwith\u001b[0m \u001b[0mcbook\u001b[0m\u001b[0;34m.\u001b[0m\u001b[0m_setattr_cm\u001b[0m\u001b[0;34m(\u001b[0m\u001b[0mself\u001b[0m\u001b[0;34m,\u001b[0m \u001b[0meventson\u001b[0m\u001b[0;34m=\u001b[0m\u001b[0;32mFalse\u001b[0m\u001b[0;34m)\u001b[0m\u001b[0;34m:\u001b[0m\u001b[0;34m\u001b[0m\u001b[0;34m\u001b[0m\u001b[0m\n\u001b[0m\u001b[1;32m   1152\u001b[0m             \u001b[0;32mfor\u001b[0m \u001b[0mk\u001b[0m\u001b[0;34m,\u001b[0m \u001b[0mv\u001b[0m \u001b[0;32min\u001b[0m \u001b[0mprops\u001b[0m\u001b[0;34m.\u001b[0m\u001b[0mitems\u001b[0m\u001b[0;34m(\u001b[0m\u001b[0;34m)\u001b[0m\u001b[0;34m:\u001b[0m\u001b[0;34m\u001b[0m\u001b[0;34m\u001b[0m\u001b[0m\n\u001b[1;32m   1153\u001b[0m                 \u001b[0;31m# Allow attributes we want to be able to update through\u001b[0m\u001b[0;34m\u001b[0m\u001b[0;34m\u001b[0m\u001b[0;34m\u001b[0m\u001b[0m\n",
      "\u001b[0;32m~/opt/anaconda3/lib/python3.8/contextlib.py\u001b[0m in \u001b[0;36m__enter__\u001b[0;34m(self)\u001b[0m\n\u001b[1;32m    111\u001b[0m         \u001b[0;32mdel\u001b[0m \u001b[0mself\u001b[0m\u001b[0;34m.\u001b[0m\u001b[0margs\u001b[0m\u001b[0;34m,\u001b[0m \u001b[0mself\u001b[0m\u001b[0;34m.\u001b[0m\u001b[0mkwds\u001b[0m\u001b[0;34m,\u001b[0m \u001b[0mself\u001b[0m\u001b[0;34m.\u001b[0m\u001b[0mfunc\u001b[0m\u001b[0;34m\u001b[0m\u001b[0;34m\u001b[0m\u001b[0m\n\u001b[1;32m    112\u001b[0m         \u001b[0;32mtry\u001b[0m\u001b[0;34m:\u001b[0m\u001b[0;34m\u001b[0m\u001b[0;34m\u001b[0m\u001b[0m\n\u001b[0;32m--> 113\u001b[0;31m             \u001b[0;32mreturn\u001b[0m \u001b[0mnext\u001b[0m\u001b[0;34m(\u001b[0m\u001b[0mself\u001b[0m\u001b[0;34m.\u001b[0m\u001b[0mgen\u001b[0m\u001b[0;34m)\u001b[0m\u001b[0;34m\u001b[0m\u001b[0;34m\u001b[0m\u001b[0m\n\u001b[0m\u001b[1;32m    114\u001b[0m         \u001b[0;32mexcept\u001b[0m \u001b[0mStopIteration\u001b[0m\u001b[0;34m:\u001b[0m\u001b[0;34m\u001b[0m\u001b[0;34m\u001b[0m\u001b[0m\n\u001b[1;32m    115\u001b[0m             \u001b[0;32mraise\u001b[0m \u001b[0mRuntimeError\u001b[0m\u001b[0;34m(\u001b[0m\u001b[0;34m\"generator didn't yield\"\u001b[0m\u001b[0;34m)\u001b[0m \u001b[0;32mfrom\u001b[0m \u001b[0;32mNone\u001b[0m\u001b[0;34m\u001b[0m\u001b[0;34m\u001b[0m\u001b[0m\n",
      "\u001b[0;31mKeyboardInterrupt\u001b[0m: "
     ]
    },
    {
     "data": {
      "image/png": "[encoded data removed]",
      "text/plain": [
       "<Figure size 432x288 with 1 Axes>"
      ]
     },
     "metadata": {
      "needs_background": "light"
     },
     "output_type": "display_data"
    }
   ],
   "source": [
    "plot_ecdf(E)"
   ]
  },
  {
   "attachments": {},
   "cell_type": "markdown",
   "metadata": {},
   "source": [
    "# Dyson-Mehta $\\Delta_3$"
   ]
  },
  {
   "cell_type": "code",
   "execution_count": 754,
   "metadata": {},
   "outputs": [],
   "source": [
    "def DeltaMehta3AB(X, XB:tuple, A:float, B:float):\n",
    "    N  = len(X)\n",
    "    H  = np.arange(N+1)\n",
    "    Y  = A*X+B\n",
    "    PB = (A*XB[0]+B, A*XB[1]+B-N)\n",
    "    P1 = Y-H[:-1]\n",
    "    P2 = Y-H[1:]\n",
    "    return (np.sum(P1**3 - P2**3) + (PB[1]**3 - PB[0]**3))/(3*A*(XB[1]-XB[0]))\n",
    "    # return (np.sum(P1**2 + P1*P2 + P2**2) + (A*(XB[1]-XB[0])-N)*(PB[1]**2+PB[1]*PB[0]+PB[0]**2))/(3*A*(XB[1]-XB[0]))\n",
    "def DeltaMehta3(X, XB:tuple):\n",
    "    N = len(X)\n",
    "    A0 = N/(XB[1]-XB[0])\n",
    "    def func(indvars):  return DeltaMehta3AB(X, XB, *indvars)\n",
    "    sol  = minimize(func, x0=(A0,0))\n",
    "    a,b = sol.x\n",
    "    D3 = DeltaMehta3AB(X, XB, a, b)\n",
    "    return D3, a, b\n",
    "def PredictedDM3(n):\n",
    "    return np.maximum(\n",
    "        math.pi**(-2) * (np.log(n) - 0.0687)\n",
    "        + 2.2e-2*np.exp(-0.14*n)\n",
    "        + 1e-1*np.exp(-1*n)\n",
    "        + 1e-1*np.exp(-4*n), 0.0)\n",
    "\n",
    "def MehtaD3_2(E, EB):\n",
    "    z = (E-EB[0])/(EB[1]-EB[0])\n",
    "    s1 = np.sum(z)\n",
    "    s2 = np.sum(z**2)\n",
    "    N = len(z)\n",
    "    a = np.arange( N-1, -1, -1 )\n",
    "    s3 = np.sum((2*a+1)*z)\n",
    "    return 6*s1*s2 - 4*s1**2 - 3*s2**2 + s3"
   ]
  },
  {
   "cell_type": "code",
   "execution_count": null,
   "metadata": {},
   "outputs": [
    {
     "name": "stdout",
     "output_type": "stream",
     "text": [
      "Delta-3 = 7.417693931304508\n",
      "Predicted Delta-3 = 1.0189087193367812\n"
     ]
    }
   ],
   "source": [
    "D3, A, B = DeltaMehta3(E, EB)\n",
    "print(f'Delta-3 = {D3}')\n",
    "\n",
    "D3_pred = 2 * PredictedDM3(len(E)/2)\n",
    "print(f'Predicted Delta-3 = {D3_pred}')"
   ]
  },
  {
   "attachments": {},
   "cell_type": "markdown",
   "metadata": {},
   "source": [
    "### Varying number of resonances"
   ]
  },
  {
   "cell_type": "code",
   "execution_count": 794,
   "metadata": {},
   "outputs": [],
   "source": [
    "num_trials = 1000\n",
    "NR = np.linspace(0.1, 20, 50)\n",
    "\n",
    "D3_means = []\n",
    "D3_stds = []\n",
    "D3_stdms = []\n",
    "for num_res_exp in NR:\n",
    "    EB = (0, float(num_res_exp))\n",
    "    d3s = []\n",
    "    for trial in range(num_trials):\n",
    "        E = sample(EB, Freq=[1.0], pM=0.0, pF=0.0)\n",
    "        d3 = MehtaD3_2(E, EB)\n",
    "        d3s.append(d3)\n",
    "    d3s = np.array(d3s)\n",
    "\n",
    "    D3_mean = np.mean(d3s)\n",
    "    D3_std  = np.std(d3s)\n",
    "    D3_stdm = D3_std / np.sqrt(num_trials)\n",
    "    D3_means.append(D3_mean)\n",
    "    D3_stds.append(D3_std)\n",
    "    D3_stdms.append(D3_stdm)\n",
    "D3_means = np.array(D3_means)\n",
    "D3_stds  = np.array(D3_stds)\n",
    "D3_stdms  = np.array(D3_stdms)"
   ]
  },
  {
   "cell_type": "code",
   "execution_count": 804,
   "metadata": {},
   "outputs": [
    {
     "data": {
      "image/png": "[encoded data removed]",
      "text/plain": [
       "<Figure size 432x288 with 1 Axes>"
      ]
     },
     "metadata": {
      "needs_background": "light"
     },
     "output_type": "display_data"
    },
    {
     "data": {
      "image/png": "[encoded data removed]",
      "text/plain": [
       "<Figure size 432x288 with 1 Axes>"
      ]
     },
     "metadata": {
      "needs_background": "light"
     },
     "output_type": "display_data"
    }
   ],
   "source": [
    "D3_pred = np.maximum(math.pi**(-2) * (np.log(NR) - 0.0687) + 2.2e-2*np.exp(-0.14*NR) + 1e-1*np.exp(-1*NR) + 1e-1*np.exp(-4*NR), 0.0)\n",
    "D3_std  = np.maximum(0.02 * np.log(NR) + 0.03, 0.0)\n",
    "\n",
    "plt.figure(42)\n",
    "plt.clf()\n",
    "plt.errorbar(NR, D3_means, D3_stds, fmt='.b', capsize=3)\n",
    "plt.errorbar(NR, D3_means, D3_stdms, fmt='.k', capsize=3)\n",
    "plt.plot(NR, D3_pred, '-r')\n",
    "plt.plot(NR, D3_pred-D3_std, ':r')\n",
    "plt.plot(NR, D3_pred+D3_std, ':r')\n",
    "plt.title(f'$\\Delta_3$ versus Number of Resonances', fontsize=18)\n",
    "plt.xlabel('Number of Resonances', fontsize=16)\n",
    "plt.ylabel('$\\Delta_3$ Statistic', fontsize=16)\n",
    "plt.grid()\n",
    "plt.tight_layout()\n",
    "plt.show()\n",
    "\n",
    "plt.figure(100)\n",
    "plt.clf()\n",
    "plt.plot(NR, D3_stds, '.b')\n",
    "plt.plot(NR, D3_std, '-r')\n",
    "plt.xlabel('Number of Resonances', fontsize=16)\n",
    "plt.ylabel('$\\delta\\Delta_3$', fontsize=16)\n",
    "plt.grid()\n",
    "plt.show()"
   ]
  },
  {
   "attachments": {},
   "cell_type": "markdown",
   "metadata": {},
   "source": [
    "### Varying Resonance Widths"
   ]
  },
  {
   "cell_type": "code",
   "execution_count": 784,
   "metadata": {},
   "outputs": [
    {
     "name": "stdout",
     "output_type": "stream",
     "text": [
      "[0.   0.01 0.02 0.03 0.04 0.05 0.06 0.07 0.08 0.09 0.1 ]\n",
      "[0.46378379 0.51330325 0.55187803 0.58129437 0.60011946 0.62005378\n",
      " 0.64278289 0.64882523 0.66303889 0.6702038  0.68065289]\n",
      "[0.10619363 0.13068511 0.14987395 0.16086175 0.16691593 0.16888767\n",
      " 0.1789922  0.18127953 0.18140606 0.18457488 0.18566675]\n",
      "[0.00237456 0.00292221 0.00335128 0.00359698 0.00373235 0.00377644\n",
      " 0.00400239 0.00405353 0.00405636 0.00412722 0.00415163]\n"
     ]
    }
   ],
   "source": [
    "num_fracs = 11\n",
    "num_trials = 2000\n",
    "FreqTot = 1.0 # Sum of Frequencies\n",
    "pM = 0.00 # Percent Missing Resonances\n",
    "pF = 0.00 # Percent False Resonances\n",
    "num_res_exp = 100\n",
    "\n",
    "EB = (0, num_res_exp / FreqTot)\n",
    "Fracs = np.linspace(0, 0.1, num_fracs)\n",
    "\n",
    "D3_means = []\n",
    "D3_stds = []\n",
    "D3_stdms = []\n",
    "for frac in Fracs:\n",
    "    Freq = np.array([frac*FreqTot, (1-frac)*FreqTot]) # Level Densities for each spingroup\n",
    "    d3s = []\n",
    "    for trial in range(num_trials):\n",
    "        E = sample(EB, Freq, pM, pF)\n",
    "        d3 = MehtaD3_2(E, EB)\n",
    "        d3s.append(d3)\n",
    "    d3s = np.array(d3s)\n",
    "\n",
    "    D3_mean = np.mean(d3s)\n",
    "    D3_std  = np.std(d3s)\n",
    "    D3_stdm = D3_std / np.sqrt(num_trials)\n",
    "    D3_means.append(D3_mean)\n",
    "    D3_stds.append(D3_std)\n",
    "    D3_stdms.append(D3_stdm)\n",
    "D3_means = np.array(D3_means)\n",
    "D3_stds  = np.array(D3_stds)\n",
    "D3_stdms  = np.array(D3_stdms)\n",
    "\n",
    "print(Fracs)\n",
    "print(D3_means)\n",
    "print(D3_stds)\n",
    "print(D3_stdms)"
   ]
  },
  {
   "cell_type": "code",
   "execution_count": 786,
   "metadata": {},
   "outputs": [
    {
     "name": "stderr",
     "output_type": "stream",
     "text": [
      "<ipython-input-754-fef52a18d6b6>:20: RuntimeWarning: divide by zero encountered in log\n",
      "  math.pi**(-2) * (np.log(n) - 0.0687)\n",
      "<ipython-input-786-0c30cd41ee0e>:3: RuntimeWarning: divide by zero encountered in log\n",
      "  D3_std = np.maximum(0.02 * np.log(Fracs*num_res_exp) + 0.03, 0.0) + np.maximum(0.02 * np.log((1-Fracs)*num_res_exp) + 0.03, 0.0)\n"
     ]
    },
    {
     "data": {
      "image/png": "[encoded data removed]",
      "text/plain": [
       "<Figure size 432x288 with 1 Axes>"
      ]
     },
     "metadata": {
      "needs_background": "light"
     },
     "output_type": "display_data"
    }
   ],
   "source": [
    "# D3_pred = math.pi**(-2) * (np.log(Fracs*num_res_exp) + np.log((1-Fracs)*num_res_exp) - 2*0.0687)\n",
    "D3_pred = PredictedDM3(Fracs*num_res_exp) + PredictedDM3((1-Fracs)*num_res_exp)\n",
    "D3_std = np.maximum(0.02 * np.log(Fracs*num_res_exp) + 0.03, 0.0) + np.maximum(0.02 * np.log((1-Fracs)*num_res_exp) + 0.03, 0.0)\n",
    "\n",
    "plt.figure(42)\n",
    "plt.clf()\n",
    "plt.errorbar(Fracs, D3_means, D3_stds, fmt='.b', capsize=3)\n",
    "plt.errorbar(Fracs, D3_means, D3_stdms, fmt='.k', capsize=3)\n",
    "plt.plot(Fracs, D3_pred, '-r')\n",
    "plt.plot(Fracs, D3_pred-D3_std, ':r')\n",
    "plt.plot(Fracs, D3_pred+D3_std, ':r')\n",
    "plt.title(f'Multi-spingroup $\\Delta_3$ for {num_res_exp} Resonances', fontsize=18)\n",
    "plt.xlabel('Level Density Fraction', fontsize=16)\n",
    "plt.ylabel('$\\Delta_3$ Statistic', fontsize=16)\n",
    "plt.grid()\n",
    "plt.tight_layout()\n",
    "plt.show()"
   ]
  },
  {
   "attachments": {},
   "cell_type": "markdown",
   "metadata": {},
   "source": [
    "### Varying False Fraction"
   ]
  },
  {
   "cell_type": "code",
   "execution_count": 791,
   "metadata": {},
   "outputs": [
    {
     "name": "stdout",
     "output_type": "stream",
     "text": [
      "[0.08333333 0.16666667 0.25       0.33333333 0.41666667 0.5\n",
      " 0.58333333 0.66666667 0.75       0.83333333 0.91666667]\n",
      "[1.00325943 1.53987212 2.09233361 2.6415877  3.17330789 3.69622917\n",
      " 4.32595523 4.77997713 5.32854402 6.36487419 6.44980678]\n",
      "[0.51035813 0.73336393 1.19901496 1.53693746 2.00663919 2.19199516\n",
      " 2.73808416 2.75421793 3.16854223 4.18088043 3.84022464]\n",
      "[0.02282391 0.03279703 0.05362158 0.06873393 0.08973963 0.098029\n",
      " 0.12245085 0.12317237 0.14170152 0.18697466 0.17174007]\n"
     ]
    }
   ],
   "source": [
    "num_fracs = 11\n",
    "num_trials = 500\n",
    "FreqTot = 1.0 # Sum of Frequencies\n",
    "pM = 0.00 # Percent Missing Resonances\n",
    "num_res_exp = 100\n",
    "\n",
    "EB = (0, num_res_exp/FreqTot)\n",
    "pFs = np.linspace(0, 1.0, num_fracs+2)[1:-1]\n",
    "\n",
    "D3_means = []\n",
    "D3_stds = []\n",
    "D3_stdms = []\n",
    "for pF in pFs:\n",
    "    Freq = [(1-pF)*FreqTot]\n",
    "    d3s = []\n",
    "    for trial in range(num_trials):\n",
    "        E = sample(EB, Freq, pM, pF)\n",
    "        d3, a, b = DeltaMehta3(E, EB)\n",
    "        d3s.append(d3)\n",
    "    d3s = np.array(d3s)\n",
    "\n",
    "    D3_mean = np.mean(d3s)\n",
    "    D3_std  = np.std(d3s)\n",
    "    D3_stdm = D3_std / np.sqrt(num_trials)\n",
    "    D3_means.append(D3_mean)\n",
    "    D3_stds.append(D3_std)\n",
    "    D3_stdms.append(D3_stdm)\n",
    "D3_means = np.array(D3_means)\n",
    "D3_stds  = np.array(D3_stds)\n",
    "D3_stdms  = np.array(D3_stdms)\n",
    "\n",
    "print(pFs)\n",
    "print(D3_means)\n",
    "print(D3_stds)\n",
    "print(D3_stdms)"
   ]
  },
  {
   "cell_type": "code",
   "execution_count": 793,
   "metadata": {},
   "outputs": [
    {
     "data": {
      "image/png": "[encoded data removed]",
      "text/plain": [
       "<Figure size 432x288 with 1 Axes>"
      ]
     },
     "metadata": {
      "needs_background": "light"
     },
     "output_type": "display_data"
    }
   ],
   "source": [
    "D3_mean = PredictedDM3((1-pFs)*num_res_exp) + (pFs*num_res_exp) / 15\n",
    "D3_std  = np.maximum(0.02 * np.log((1-pFs)*num_res_exp) + 0.03, 0.0) + (pFs * num_res_exp) / 25\n",
    "\n",
    "plt.figure(43)\n",
    "plt.clf()\n",
    "plt.hlines(num_res_exp/15, 0.0, 1.0, 'r', '--')\n",
    "plt.errorbar(pFs, D3_means, D3_stds, fmt='.b', capsize=3)\n",
    "plt.errorbar(pFs, D3_means, D3_stdms, fmt='.k', capsize=3)\n",
    "plt.plot(pFs, D3_mean, '-r')\n",
    "plt.plot(pFs, D3_mean-D3_std, ':r')\n",
    "plt.plot(pFs, D3_mean+D3_std, ':r')\n",
    "plt.title(f'Multi-spingroup $\\Delta_3$ for {num_res_exp} Resonances', fontsize=18)\n",
    "plt.xlabel('False Resonance Fraction', fontsize=16)\n",
    "plt.ylabel('$\\Delta_3$ Statistic', fontsize=16)\n",
    "plt.grid()\n",
    "plt.tight_layout()\n",
    "plt.show()"
   ]
  },
  {
   "cell_type": "code",
   "execution_count": null,
   "metadata": {},
   "outputs": [
    {
     "name": "stdout",
     "output_type": "stream",
     "text": [
      "Mean     = 19.97490\n",
      "Expected = 20.00000\n",
      "Standard deviation of mean = 0.39311\n",
      "\n",
      "Standard deviation = 12.43111\n",
      "Expected = 12.0 (guessed)\n"
     ]
    }
   ],
   "source": [
    "num_res_exp = 300\n",
    "num_trials = 1000\n",
    "\n",
    "d3s = []\n",
    "for trial in range(num_trials):\n",
    "    # NumSamples = np.random.poisson(num_res_exp)\n",
    "    NumSamples = num_res_exp\n",
    "    E = np.random.uniform(low=0, high=1, size=(NumSamples,))\n",
    "    E.sort()\n",
    "    d3, a, b = DeltaMehta3(E, (0,1))\n",
    "    d3s.append(d3)\n",
    "\n",
    "D3_mean = np.mean(d3s)\n",
    "D3_mean_exp = num_res_exp / 15\n",
    "\n",
    "D3_std  = np.std(d3s)\n",
    "D3_stdm = D3_std / np.sqrt(num_trials)\n",
    "D3_std_exp = num_res_exp / 25\n",
    "\n",
    "print(f'Mean     = {D3_mean:.5f}')\n",
    "print(f'Expected = {D3_mean_exp :.5f}')\n",
    "print(f'Standard deviation of mean = {D3_stdm:.5f}')\n",
    "print()\n",
    "print(f'Standard deviation = {D3_std:.5f}')\n",
    "print(f'Expected = {D3_std_exp} (guessed)')"
   ]
  },
  {
   "attachments": {},
   "cell_type": "markdown",
   "metadata": {},
   "source": [
    "# False Resonance Fraction Estimation\n",
    "Now that we have studied the expected $\\Delta_3$ and variance for any combination of multiple true and false resonances, we can now use the statistic to predict the number of false resonances."
   ]
  },
  {
   "cell_type": "code",
   "execution_count": 831,
   "metadata": {},
   "outputs": [],
   "source": [
    "def mehtaGOEPredictor(num_res:int):\n",
    "    \"\"\"\n",
    "    ...\n",
    "    \"\"\"\n",
    "    D3_mean = np.maximum(\n",
    "        math.pi**(-2) * (np.log(num_res) - 0.0687)\n",
    "        + 2.2e-2*np.exp(-0.14*num_res)\n",
    "        + 1e-1*np.exp(-1*num_res)\n",
    "        + 1e-1*np.exp(-4*num_res), 0.0)\n",
    "    D3_std  = np.maximum(0.02 * np.log(num_res) + 0.03, 0.0)\n",
    "    return D3_mean, D3_std\n",
    "\n",
    "def mehtaPoissonPredictor(num_res:int):\n",
    "    \"\"\"\n",
    "    ...\n",
    "    \"\"\"\n",
    "    D3_mean = num_res / 15\n",
    "    D3_std  = num_res / 25\n",
    "    return D3_mean, D3_std\n",
    "\n",
    "def mehtaPredictor(num_res:int, frac_Gs, frac_F:float=0.0, frac_M:float=0.0):\n",
    "    \"\"\"\n",
    "    ...\n",
    "    \"\"\"\n",
    "    if frac_M != 0.0:\n",
    "        raise NotImplementedError('Non-zero \"pM\" has not been implemented yet.')\n",
    "        # Look at https://www.osti.gov/servlets/purl/1478482; Eq. 39\n",
    "    if frac_Gs.ndim == 1:\n",
    "        frac_Gs = frac_Gs.reshape(1,-1)\n",
    "    num_res_Gs = frac_Gs * num_res\n",
    "    num_res_false = frac_F * num_res\n",
    "    D3_mean_Gs, D3_std_Gs = mehtaGOEPredictor(num_res_Gs)\n",
    "    D3_mean_false, D3_std_false = mehtaPoissonPredictor(num_res_false)\n",
    "    D3_mean = np.sum(D3_mean_Gs, axis=1) + D3_mean_false\n",
    "    D3_std  = np.sum(D3_std_Gs , axis=1) + D3_std_false\n",
    "    return D3_mean, D3_std\n",
    "\n",
    "def false_prediction(D3:float, num_res:int, frac_Gs_T, frac_M:float=0.0):\n",
    "    frac_Fs = np.linspace(0.0, 1.0, 1000)\n",
    "    frac_Gs = (1-frac_Fs.reshape(-1,1))*frac_Gs_T.reshape(1,-1)\n",
    "    D3_means, D3_stds = mehtaPredictor(num_res, frac_Gs, frac_Fs, frac_M)\n",
    "    probs_F = norm.pdf((D3-D3_means)/D3_stds)/D3_stds\n",
    "    norm_fact = np.trapz(probs_F, frac_Fs, axis=0)\n",
    "    mean = np.trapz(frac_Fs * probs_F, frac_Fs, axis=0) / norm_fact\n",
    "    var  = np.trapz((frac_Fs-mean)**2 * probs_F, frac_Fs, axis=0) / norm_fact\n",
    "    std = np.sqrt(var)\n",
    "    return mean, std"
   ]
  },
  {
   "cell_type": "code",
   "execution_count": 853,
   "metadata": {},
   "outputs": [
    {
     "name": "stdout",
     "output_type": "stream",
     "text": [
      "0.37489 +/- 0.22719\n"
     ]
    },
    {
     "name": "stderr",
     "output_type": "stream",
     "text": [
      "<ipython-input-831-a3cc1c3e032b>:6: RuntimeWarning: divide by zero encountered in log\n",
      "  math.pi**(-2) * (np.log(num_res) - 0.0687)\n",
      "<ipython-input-831-a3cc1c3e032b>:10: RuntimeWarning: divide by zero encountered in log\n",
      "  D3_std  = np.maximum(0.02 * np.log(num_res) + 0.03, 0.0)\n"
     ]
    }
   ],
   "source": [
    "D3 = 2.0\n",
    "num_res = 100\n",
    "frac_Gs_T = np.array([1.0])\n",
    "\n",
    "mean, std = false_prediction(D3, num_res, frac_Gs_T)\n",
    "\n",
    "print(f'{mean:.5f} +/- {std:.5f}')"
   ]
  }
 ],
 "metadata": {
  "kernelspec": {
   "display_name": "base",
   "language": "python",
   "name": "python3"
  },
  "language_info": {
   "codemirror_mode": {
    "name": "ipython",
    "version": 3
   },
   "file_extension": ".py",
   "mimetype": "text/x-python",
   "name": "python",
   "nbconvert_exporter": "python",
   "pygments_lexer": "ipython3",
   "version": "3.8.5"
  },
  "orig_nbformat": 4,
  "vscode": {
   "interpreter": {
    "hash": "6b1e05b977db2afb962b02c3fca19b9b91f366c5b7e6333f69a37f5ba397db57"
   }
  }
 },
 "nbformat": 4,
 "nbformat_minor": 2
}
