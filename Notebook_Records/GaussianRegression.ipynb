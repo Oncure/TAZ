{
 "cells": [
  {
   "cell_type": "code",
   "execution_count": null,
   "metadata": {},
   "outputs": [],
   "source": [
    "import numpy as np\n",
    "from scipy.optimize import curve_fit\n",
    "\n",
    "f = lambda x,M,B,c: -0.5*(x-B).T*M*(x-B)+c\n",
    "curve_fit(f, )"
   ]
  }
 ],
 "metadata": {
  "kernelspec": {
   "display_name": "Python 3.8.5 ('base')",
   "language": "python",
   "name": "python3"
  },
  "language_info": {
   "name": "python",
   "version": "3.8.5"
  },
  "orig_nbformat": 4,
  "vscode": {
   "interpreter": {
    "hash": "6b1e05b977db2afb962b02c3fca19b9b91f366c5b7e6333f69a37f5ba397db57"
   }
  }
 },
 "nbformat": 4,
 "nbformat_minor": 2
}
