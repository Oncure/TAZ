{
 "cells": [
  {
   "cell_type": "code",
   "execution_count": 51,
   "metadata": {},
   "outputs": [
    {
     "data": {
      "image/png": "[encoded data removed]",
      "text/plain": [
       "<Figure size 432x288 with 1 Axes>"
      ]
     },
     "metadata": {
      "needs_background": "light"
     },
     "output_type": "display_data"
    }
   ],
   "source": [
    "import numpy as np\n",
    "import matplotlib.pyplot as plt\n",
    "\n",
    "N = 100000\n",
    "L = 1\n",
    "p = 0.49\n",
    "q = 1\n",
    "v = int(2)\n",
    "\n",
    "counts = np.zeros(N)\n",
    "for i in range(N):\n",
    "    n = int(np.random.poisson(L))\n",
    "    count = 0\n",
    "\n",
    "    for j in range(100000):\n",
    "\n",
    "        # Loss Step:\n",
    "        k = int(np.random.binomial(n, p))\n",
    "\n",
    "        # Counts:\n",
    "        count += n - k\n",
    "\n",
    "        # Finished?\n",
    "        if k == 0:  break\n",
    "        if j == 100000: print('Not enough iterations!!!')\n",
    "\n",
    "        # Multiplication Step:\n",
    "        n = k*v\n",
    "\n",
    "    counts[i] = np.random.binomial(count, q)\n",
    "\n",
    "bins = 10**np.linspace(0, 2.5, 10)\n",
    "plt.hist(counts, bins)\n",
    "\n",
    "A = 3e4\n",
    "B = -0.6\n",
    "X = np.linspace(1, 3.5e2, 100)\n",
    "Y = A*X**B\n",
    "plt.plot(X,Y,'-k')\n",
    "\n",
    "plt.xscale('log')\n",
    "plt.yscale('log')\n",
    "plt.show()\n",
    "\n",
    "\n",
    "\n"
   ]
  }
 ],
 "metadata": {
  "kernelspec": {
   "display_name": "Python 3.8.5 ('base')",
   "language": "python",
   "name": "python3"
  },
  "language_info": {
   "codemirror_mode": {
    "name": "ipython",
    "version": 3
   },
   "file_extension": ".py",
   "mimetype": "text/x-python",
   "name": "python",
   "nbconvert_exporter": "python",
   "pygments_lexer": "ipython3",
   "version": "3.8.5"
  },
  "orig_nbformat": 4,
  "vscode": {
   "interpreter": {
    "hash": "6b1e05b977db2afb962b02c3fca19b9b91f366c5b7e6333f69a37f5ba397db57"
   }
  }
 },
 "nbformat": 4,
 "nbformat_minor": 2
}
